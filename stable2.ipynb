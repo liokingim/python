{
 "cells": [
  {
   "cell_type": "markdown",
   "metadata": {},
   "source": [
    "pytouch 이용"
   ]
  },
  {
   "cell_type": "code",
   "execution_count": null,
   "metadata": {},
   "outputs": [],
   "source": [
    "!pip install diffusers transformers accelerate gradio translate"
   ]
  },
  {
   "cell_type": "code",
   "execution_count": null,
   "metadata": {},
   "outputs": [],
   "source": [
    "from diffusers import StableDiffusionPipeline\n",
    "import torch\n",
    "\n",
    "# CUDA 사용 가능한지 확인\n",
    "print(torch.cuda.is_available())\n",
    "\n",
    "# CUDA 버전 확인\n",
    "print(torch.version.cuda)\n",
    "\n",
    "# 현재 설정된 디바이스 확인\n",
    "print(torch.cuda.current_device())\n",
    "\n",
    "# GPU 디바이스 이름 확인\n",
    "print(torch.cuda.get_device_name(torch.cuda.current_device()))"
   ]
  },
  {
   "cell_type": "code",
   "execution_count": null,
   "metadata": {},
   "outputs": [],
   "source": [
    "\n",
    "model_id = \"dreamlike-art/dreamlike-photoreal-2.0\"\n",
    "pipe = StableDiffusionPipeline.from_pretrained(model_id, torch_dtype=torch.float16)\n",
    "pipe = pipe.to(\"cuda\")\n",
    "\n",
    "print('Model loaded!!')"
   ]
  },
  {
   "cell_type": "code",
   "execution_count": null,
   "metadata": {},
   "outputs": [],
   "source": [
    "prompt = \"photo, a cat in the middle of a field of crops, bright cinematic lighting, gopro, fisheye lens\"\n",
    "image = pipe(prompt).images[0]\n",
    "\n",
    "image.save(\"./result.jpg\")\n"
   ]
  },
  {
   "cell_type": "code",
   "execution_count": null,
   "metadata": {},
   "outputs": [],
   "source": [
    "from translate import Translator\n",
    "\n",
    "translator = Translator(from_lang='ko', to_lang='en')\n",
    "\n",
    "translation = translator.translate('어린 왕자')\n",
    "\n",
    "translation"
   ]
  },
  {
   "cell_type": "code",
   "execution_count": null,
   "metadata": {},
   "outputs": [],
   "source": [
    "def generate_image(text):\n",
    "    print(text)\n",
    "    translation = translator.translate(text)\n",
    "    print(translation)\n",
    "\n",
    "    image = pipe(translation).images[0]\n",
    "\n",
    "    return image\n",
    "\n",
    "image = generate_image('어린 왕자')\n",
    "\n",
    "image"
   ]
  },
  {
   "cell_type": "code",
   "execution_count": null,
   "metadata": {},
   "outputs": [],
   "source": [
    "import gradio as gr\n",
    "\n",
    "def inference(text):\n",
    "    return generate_image(text)\n",
    "\n",
    "demo = gr.Interface(fn=inference, inputs='text', outputs='image')\n",
    "\n",
    "demo.launch(debug=True, share=True)"
   ]
  }
 ],
 "metadata": {
  "kernelspec": {
   "display_name": "Python 3",
   "language": "python",
   "name": "python3"
  },
  "language_info": {
   "codemirror_mode": {
    "name": "ipython",
    "version": 3
   },
   "file_extension": ".py",
   "mimetype": "text/x-python",
   "name": "python",
   "nbconvert_exporter": "python",
   "pygments_lexer": "ipython3",
   "version": "3.10.12"
  },
  "orig_nbformat": 4
 },
 "nbformat": 4,
 "nbformat_minor": 2
}
